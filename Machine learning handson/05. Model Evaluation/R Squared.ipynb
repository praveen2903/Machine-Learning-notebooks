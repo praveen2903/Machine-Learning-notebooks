{
 "cells": [
  {
   "cell_type": "markdown",
   "metadata": {},
   "source": [
    "# $R^2$ Intuition"
   ]
  },
  {
   "cell_type": "markdown",
   "metadata": {},
   "source": [
    "For a given model, the sum of squared errors is calculated as\n",
    "$$ SS_{res} = \\sum_{i=0}^n (y_i - \\hat{y_i})^2 $$\n",
    "\n",
    "For a model where output is always the average value of $y$ is\n",
    "$$ SS_{tot} = \\sum_{i=0}^n (y_i - y_{avg})^2 $$\n",
    "\n",
    "R Squared is defined as\n",
    "$$ R^2 = 1 - \\frac{SS_{res}}{SS_{tot}} $$\n",
    "\n",
    "#### So the $R^2$ basically depicts how different your model is from average model, if your model is equal to average model, the $R^2$ is 0 which is bad, but if it is accurate one, the $SS_{res}$ will be lower and $\\frac{SS_{res}}{SS_{tot}}$ will be lower, which means the $R^2$ will be higher for an accurate model \n",
    "\n",
    "#### Note that $R^2$ can also be negative. This occurs when your model is even worse than the average model"
   ]
  },
  {
   "cell_type": "markdown",
   "metadata": {},
   "source": [
    "# Adjusted $R^2$\n",
    "\n",
    "### Problem with $R^2$\n",
    "\n",
    "Hypothesis: $R^2$ will never decrease\n",
    "\n",
    "When you have a model with $n$ variables, the model will try to minimise the error. When you add $n + 1$ th variable, the model will try to minimise the error by assigning it a valid coefficient. If it fails to do so, i.e. if the new variable isn't helping at all, it will simply assign it a coefficient of 0. Hence, $R^2$ will never decrease. \n",
    "\n",
    "##### So, the problem is we will never know if the model is getting better by adding additional variables, which is an important thing to know.\n",
    "\n",
    "So, the solution is to use adjusted $R^2$ which is given by\n",
    "\n",
    "$$ R^2_{adj} = 1 - (1 - R^2) \\frac{n - 1}{n - p - 1}$$\n",
    "\n",
    "Where,\n",
    "p = number of Regressors (independent variables)\n",
    "n = sample size\n",
    "\n",
    "So basically, it penalizes for the number of variables you use. It is a battle between increase in $R^2$ vs the penalization brought by adding the additional variable"
   ]
  },
  {
   "cell_type": "markdown",
   "metadata": {},
   "source": [
    "# Interpreting coefficients\n",
    "\n",
    "Just because the coefficient of a variable is high, it doesn't mean it is more corelated. We should look at the units while interpreting coefficient. Best way to do it is look at the change for a unit change. For instance, if the coefficient is 0.79 we can say, for a unit change i.e. for an additional dollar added into the column, the profit will increase by 79 cents"
   ]
  },
  {
   "cell_type": "code",
   "execution_count": null,
   "metadata": {
    "collapsed": true
   },
   "outputs": [],
   "source": []
  }
 ],
 "metadata": {
  "kernelspec": {
   "display_name": "Python [conda root]",
   "language": "python",
   "name": "conda-root-py"
  }
 },
 "nbformat": 4,
 "nbformat_minor": 1
}

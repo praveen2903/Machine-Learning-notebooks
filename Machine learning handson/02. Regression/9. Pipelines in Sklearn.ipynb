{
 "cells": [
  {
   "cell_type": "markdown",
   "metadata": {},
   "source": [
    "## Pipelines\n",
    "\n",
    "Pipelines in Sklearn offer a convenient way of building models. Imagine the standard way of building the model: Imuting using Imputer, then PCA, then building model and then prediction. Instead of making it in steps, all of them can be combined using Pipeline. "
   ]
  },
  {
   "cell_type": "code",
   "execution_count": 103,
   "metadata": {},
   "outputs": [],
   "source": [
    "import numpy as np\n",
    "\n",
    "from sklearn.pipeline import Pipeline\n",
    "from sklearn.datasets import make_regression\n",
    "from sklearn.decomposition import PCA\n",
    "from sklearn.preprocessing import Imputer, StandardScaler\n",
    "from sklearn.svm import SVR\n",
    "\n",
    "n_features = 10\n",
    "X, y = make_regression(n_informative=5, n_features=n_features)"
   ]
  },
  {
   "cell_type": "code",
   "execution_count": 104,
   "metadata": {},
   "outputs": [
    {
     "name": "stdout",
     "output_type": "stream",
     "text": [
      "X[28][5] = np.nan\n",
      "X[95][2] = np.nan\n",
      "X[0][1] = np.nan\n",
      "X[56][3] = np.nan\n",
      "X[68][5] = np.nan\n",
      "X[11][0] = np.nan\n",
      "X[23][5] = np.nan\n",
      "X[56][6] = np.nan\n",
      "X[1][1] = np.nan\n",
      "X[82][7] = np.nan\n",
      "X[2][6] = np.nan\n",
      "X[53][6] = np.nan\n",
      "X[22][0] = np.nan\n",
      "X[69][4] = np.nan\n",
      "X[24][1] = np.nan\n",
      "X[63][4] = np.nan\n",
      "X[18][5] = np.nan\n",
      "X[79][5] = np.nan\n",
      "X[98][3] = np.nan\n",
      "X[42][5] = np.nan\n"
     ]
    }
   ],
   "source": [
    "# randomly put nans in X\n",
    "for rand_row in [np.random.randint(100) for x in range(20)]:\n",
    "    rand_col = np.random.randint(n_features) \n",
    "    X[rand_row][rand_col] = np.nan\n",
    "    print(\"X[{0}][{1}] = np.nan\".format(rand_row, rand_col))"
   ]
  },
  {
   "cell_type": "code",
   "execution_count": 105,
   "metadata": {},
   "outputs": [
    {
     "data": {
      "text/plain": [
       "[('Imputer',\n",
       "  Imputer(axis=0, copy=True, missing_values='NaN', strategy='mean', verbose=0)),\n",
       " ('Scaler', StandardScaler(copy=True, with_mean=True, with_std=True)),\n",
       " ('SVM',\n",
       "  SVR(C=1.0, cache_size=200, coef0=0.0, degree=3, epsilon=0.1, gamma='auto',\n",
       "    kernel='rbf', max_iter=-1, shrinking=True, tol=0.001, verbose=False))]"
      ]
     },
     "execution_count": 105,
     "metadata": {},
     "output_type": "execute_result"
    }
   ],
   "source": [
    "pipe = Pipeline([(\"Imputer\", Imputer(strategy=\"mean\")), (\"Scaler\", StandardScaler()), \n",
    "                 (\"PCA\", PCA(n_components=6)), (\"SVM\", SVR())])\n",
    "pipe.steps\n",
    "# lists all the steps in pipeline"
   ]
  },
  {
   "cell_type": "code",
   "execution_count": 106,
   "metadata": {},
   "outputs": [],
   "source": [
    "from sklearn.model_selection import train_test_split\n",
    "from sklearn.metrics import accuracy_score\n",
    "X_train, X_test, y_train, y_test = train_test_split(X, y, test_size=0.2)"
   ]
  },
  {
   "cell_type": "code",
   "execution_count": 107,
   "metadata": {},
   "outputs": [],
   "source": [
    "pipe.fit(X_train, y_train)\n",
    "y_pred = pipe.predict(X_test)"
   ]
  }
 ],
 "metadata": {
  "kernelspec": {
   "display_name": "Python 2",
   "language": "python",
   "name": "python2"
  },
  "language_info": {
   "codemirror_mode": {
    "name": "ipython",
    "version": 2
   },
   "file_extension": ".py",
   "mimetype": "text/x-python",
   "name": "python",
   "nbconvert_exporter": "python",
   "pygments_lexer": "ipython2",
   "version": "2.7.14"
  }
 },
 "nbformat": 4,
 "nbformat_minor": 2
}

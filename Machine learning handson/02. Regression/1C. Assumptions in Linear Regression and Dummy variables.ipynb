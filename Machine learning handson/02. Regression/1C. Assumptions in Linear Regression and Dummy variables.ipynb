{
 "cells": [
  {
   "cell_type": "markdown",
   "metadata": {
    "nbpresent": {
     "id": "9e327d62-efa8-42da-a466-3807c60e7b68"
    }
   },
   "source": [
    "### Assumptions in Linear Regression:\n",
    "\n",
    "#### 1. Normally distributed Residuals\n",
    "Residuals should be normally distributed. This can be checked using histogram of residuals\n",
    "\n",
    "#### 2. Little to no Multicollinearity \n",
    "Multiple regression assumes that the independent variables are not highly correlated with each other.  This assumption is tested using Variance Inflation Factor (VIF) values. One way to deal with multicollinearity is subtracting mean. \n",
    "\n",
    "#### 3. Homoscedasticity\n",
    "This assumption states that the variance of error terms are similar across the values of the independent variables.  A plot of standardized residuals versus predicted values can show whether points are equally distributed across all values of the independent variables.\n",
    "\n",
    "### Dummy variable trap\n",
    "This occurs when there is redundant information due to OneHotEncoder. Eg if there are two cities, New York and California, then a since City_New_York with value 0 or 1 is enough to preserve the information. If you make two columns City_New_York and City_California then both will portray same information, just opposite values. This introduces multicollinearity. When there are many unrelated featueres, the model can learn a lot from those. But when there are less features, then the model will be unstable and will undergo huge changes with little change in input value.\n",
    "\n",
    "#### Dummy variable trap can be avoided by dropping one feature off every subset of dummy variables. "
   ]
  },
  {
   "cell_type": "code",
   "execution_count": 60,
   "metadata": {
    "nbpresent": {
     "id": "b3febd39-abda-4a7b-a1f5-3b88c4c79de1"
    }
   },
   "outputs": [
    {
     "data": {
      "text/html": [
       "<div>\n",
       "<style scoped>\n",
       "    .dataframe tbody tr th:only-of-type {\n",
       "        vertical-align: middle;\n",
       "    }\n",
       "\n",
       "    .dataframe tbody tr th {\n",
       "        vertical-align: top;\n",
       "    }\n",
       "\n",
       "    .dataframe thead th {\n",
       "        text-align: right;\n",
       "    }\n",
       "</style>\n",
       "<table border=\"1\" class=\"dataframe\">\n",
       "  <thead>\n",
       "    <tr style=\"text-align: right;\">\n",
       "      <th></th>\n",
       "      <th>0</th>\n",
       "      <th>1</th>\n",
       "      <th>2</th>\n",
       "      <th>3</th>\n",
       "      <th>4</th>\n",
       "      <th>5</th>\n",
       "      <th>6</th>\n",
       "      <th>7</th>\n",
       "      <th>8</th>\n",
       "      <th>9</th>\n",
       "      <th>10</th>\n",
       "      <th>11</th>\n",
       "      <th>12</th>\n",
       "      <th>13</th>\n",
       "      <th>14</th>\n",
       "      <th>15</th>\n",
       "      <th>16</th>\n",
       "      <th>17</th>\n",
       "      <th>18</th>\n",
       "      <th>19</th>\n",
       "    </tr>\n",
       "  </thead>\n",
       "  <tbody>\n",
       "    <tr>\n",
       "      <th>0</th>\n",
       "      <td>0.074232</td>\n",
       "      <td>1.986427</td>\n",
       "      <td>0.310052</td>\n",
       "      <td>-1.004567</td>\n",
       "      <td>0.141186</td>\n",
       "      <td>1.145350</td>\n",
       "      <td>1.400318</td>\n",
       "      <td>-0.881926</td>\n",
       "      <td>-0.843096</td>\n",
       "      <td>-1.560638</td>\n",
       "      <td>-0.566479</td>\n",
       "      <td>0.351185</td>\n",
       "      <td>0.405732</td>\n",
       "      <td>0.333857</td>\n",
       "      <td>-0.407014</td>\n",
       "      <td>0.923185</td>\n",
       "      <td>0.374436</td>\n",
       "      <td>-1.983881</td>\n",
       "      <td>0.661644</td>\n",
       "      <td>0.513339</td>\n",
       "    </tr>\n",
       "    <tr>\n",
       "      <th>1</th>\n",
       "      <td>-2.826229</td>\n",
       "      <td>0.627472</td>\n",
       "      <td>-1.791484</td>\n",
       "      <td>-0.006147</td>\n",
       "      <td>-1.067629</td>\n",
       "      <td>-0.323952</td>\n",
       "      <td>-1.857131</td>\n",
       "      <td>-0.084058</td>\n",
       "      <td>1.319829</td>\n",
       "      <td>-0.285186</td>\n",
       "      <td>-1.259155</td>\n",
       "      <td>-0.312493</td>\n",
       "      <td>-0.063735</td>\n",
       "      <td>-1.125292</td>\n",
       "      <td>-0.465324</td>\n",
       "      <td>0.569733</td>\n",
       "      <td>0.679675</td>\n",
       "      <td>-0.304674</td>\n",
       "      <td>1.214460</td>\n",
       "      <td>0.319342</td>\n",
       "    </tr>\n",
       "    <tr>\n",
       "      <th>2</th>\n",
       "      <td>0.572795</td>\n",
       "      <td>-0.370965</td>\n",
       "      <td>-0.609491</td>\n",
       "      <td>-3.127797</td>\n",
       "      <td>-0.808524</td>\n",
       "      <td>-2.604676</td>\n",
       "      <td>-1.058772</td>\n",
       "      <td>-0.980460</td>\n",
       "      <td>-1.347285</td>\n",
       "      <td>-0.886258</td>\n",
       "      <td>-2.736957</td>\n",
       "      <td>0.820368</td>\n",
       "      <td>2.309269</td>\n",
       "      <td>1.769153</td>\n",
       "      <td>-1.111227</td>\n",
       "      <td>-0.829549</td>\n",
       "      <td>0.584717</td>\n",
       "      <td>0.291793</td>\n",
       "      <td>-0.977619</td>\n",
       "      <td>-1.043986</td>\n",
       "    </tr>\n",
       "    <tr>\n",
       "      <th>3</th>\n",
       "      <td>-1.581389</td>\n",
       "      <td>1.714122</td>\n",
       "      <td>0.600613</td>\n",
       "      <td>0.223763</td>\n",
       "      <td>0.567996</td>\n",
       "      <td>-2.146892</td>\n",
       "      <td>0.023523</td>\n",
       "      <td>1.230237</td>\n",
       "      <td>0.521923</td>\n",
       "      <td>1.476945</td>\n",
       "      <td>1.032412</td>\n",
       "      <td>-1.282115</td>\n",
       "      <td>-0.513629</td>\n",
       "      <td>1.197274</td>\n",
       "      <td>0.867149</td>\n",
       "      <td>-1.793386</td>\n",
       "      <td>0.876216</td>\n",
       "      <td>-1.515119</td>\n",
       "      <td>-1.532318</td>\n",
       "      <td>-0.374120</td>\n",
       "    </tr>\n",
       "    <tr>\n",
       "      <th>4</th>\n",
       "      <td>-0.846028</td>\n",
       "      <td>-0.157537</td>\n",
       "      <td>2.246263</td>\n",
       "      <td>1.230532</td>\n",
       "      <td>-1.061811</td>\n",
       "      <td>0.806593</td>\n",
       "      <td>-0.960286</td>\n",
       "      <td>-2.075879</td>\n",
       "      <td>0.016584</td>\n",
       "      <td>0.503500</td>\n",
       "      <td>0.137756</td>\n",
       "      <td>0.172076</td>\n",
       "      <td>-0.989669</td>\n",
       "      <td>-0.549751</td>\n",
       "      <td>1.766336</td>\n",
       "      <td>0.973990</td>\n",
       "      <td>-1.347037</td>\n",
       "      <td>-1.438085</td>\n",
       "      <td>-1.793198</td>\n",
       "      <td>-0.386394</td>\n",
       "    </tr>\n",
       "  </tbody>\n",
       "</table>\n",
       "</div>"
      ],
      "text/plain": [
       "         0         1         2         3         4         5         6   \\\n",
       "0  0.074232  1.986427  0.310052 -1.004567  0.141186  1.145350  1.400318   \n",
       "1 -2.826229  0.627472 -1.791484 -0.006147 -1.067629 -0.323952 -1.857131   \n",
       "2  0.572795 -0.370965 -0.609491 -3.127797 -0.808524 -2.604676 -1.058772   \n",
       "3 -1.581389  1.714122  0.600613  0.223763  0.567996 -2.146892  0.023523   \n",
       "4 -0.846028 -0.157537  2.246263  1.230532 -1.061811  0.806593 -0.960286   \n",
       "\n",
       "         7         8         9         10        11        12        13  \\\n",
       "0 -0.881926 -0.843096 -1.560638 -0.566479  0.351185  0.405732  0.333857   \n",
       "1 -0.084058  1.319829 -0.285186 -1.259155 -0.312493 -0.063735 -1.125292   \n",
       "2 -0.980460 -1.347285 -0.886258 -2.736957  0.820368  2.309269  1.769153   \n",
       "3  1.230237  0.521923  1.476945  1.032412 -1.282115 -0.513629  1.197274   \n",
       "4 -2.075879  0.016584  0.503500  0.137756  0.172076 -0.989669 -0.549751   \n",
       "\n",
       "         14        15        16        17        18        19  \n",
       "0 -0.407014  0.923185  0.374436 -1.983881  0.661644  0.513339  \n",
       "1 -0.465324  0.569733  0.679675 -0.304674  1.214460  0.319342  \n",
       "2 -1.111227 -0.829549  0.584717  0.291793 -0.977619 -1.043986  \n",
       "3  0.867149 -1.793386  0.876216 -1.515119 -1.532318 -0.374120  \n",
       "4  1.766336  0.973990 -1.347037 -1.438085 -1.793198 -0.386394  "
      ]
     },
     "execution_count": 60,
     "metadata": {},
     "output_type": "execute_result"
    }
   ],
   "source": [
    "import numpy as np\n",
    "import pandas as pd\n",
    "\n",
    "from sklearn.datasets import make_regression\n",
    "from sklearn.linear_model import LinearRegression\n",
    "from sklearn.model_selection import cross_val_score\n",
    "\n",
    "# Create made up regression dataset\n",
    "X, y = make_regression(n_samples=100, n_features=20, noise=0.95)\n",
    "# Create a table to view it\n",
    "df = pd.DataFrame(X)\n",
    "df.head()"
   ]
  },
  {
   "cell_type": "markdown",
   "metadata": {
    "nbpresent": {
     "id": "c05a93bc-30ac-466d-834f-d9c358572f70"
    }
   },
   "source": [
    "### Results on a dataset with no multicollinearity"
   ]
  },
  {
   "cell_type": "code",
   "execution_count": 63,
   "metadata": {
    "nbpresent": {
     "id": "b5e4ee25-b9b2-4e8b-ac5f-da8da9f5cb95"
    }
   },
   "outputs": [
    {
     "name": "stdout",
     "output_type": "stream",
     "text": [
      "Mean: 0.999944526095\n",
      "Values: [ 0.99996679  0.99996035  0.99985266  0.99996614  0.99995686  0.99994011\n",
      "  0.99992176  0.99997001  0.99994873  0.99996186]\n"
     ]
    }
   ],
   "source": [
    "# Cross Validation will fit the classifier N number of times\n",
    "# and display the accuracies\n",
    "cv = cross_val_score(LinearRegression(), X, y, cv=10)\n",
    "print(\"Mean: {}\".format(cv.mean()))\n",
    "print(\"Values: {}\".format(cv))"
   ]
  },
  {
   "cell_type": "code",
   "execution_count": 72,
   "metadata": {
    "nbpresent": {
     "id": "921bad8d-59a3-4d6e-b2dc-ef6e8bcb24bb"
    }
   },
   "outputs": [
    {
     "data": {
      "text/html": [
       "<div>\n",
       "<style scoped>\n",
       "    .dataframe tbody tr th:only-of-type {\n",
       "        vertical-align: middle;\n",
       "    }\n",
       "\n",
       "    .dataframe tbody tr th {\n",
       "        vertical-align: top;\n",
       "    }\n",
       "\n",
       "    .dataframe thead th {\n",
       "        text-align: right;\n",
       "    }\n",
       "</style>\n",
       "<table border=\"1\" class=\"dataframe\">\n",
       "  <thead>\n",
       "    <tr style=\"text-align: right;\">\n",
       "      <th></th>\n",
       "      <th>0</th>\n",
       "      <th>1</th>\n",
       "      <th>2</th>\n",
       "      <th>3</th>\n",
       "      <th>4</th>\n",
       "      <th>5</th>\n",
       "      <th>6</th>\n",
       "      <th>7</th>\n",
       "      <th>8</th>\n",
       "      <th>9</th>\n",
       "      <th>10</th>\n",
       "      <th>11</th>\n",
       "      <th>12</th>\n",
       "      <th>13</th>\n",
       "      <th>14</th>\n",
       "      <th>15</th>\n",
       "      <th>16</th>\n",
       "      <th>17</th>\n",
       "      <th>18</th>\n",
       "      <th>19</th>\n",
       "    </tr>\n",
       "  </thead>\n",
       "  <tbody>\n",
       "    <tr>\n",
       "      <th>0</th>\n",
       "      <td>0.015846</td>\n",
       "      <td>-0.010931</td>\n",
       "      <td>-0.004674</td>\n",
       "      <td>0.003822</td>\n",
       "      <td>-0.023871</td>\n",
       "      <td>-0.017512</td>\n",
       "      <td>0.044750</td>\n",
       "      <td>0.009582</td>\n",
       "      <td>-0.015291</td>\n",
       "      <td>-0.016862</td>\n",
       "      <td>0.027048</td>\n",
       "      <td>0.004653</td>\n",
       "      <td>0.012857</td>\n",
       "      <td>0.015904</td>\n",
       "      <td>-0.026063</td>\n",
       "      <td>-0.006431</td>\n",
       "      <td>0.029526</td>\n",
       "      <td>0.012398</td>\n",
       "      <td>0.005457</td>\n",
       "      <td>0.012917</td>\n",
       "    </tr>\n",
       "    <tr>\n",
       "      <th>1</th>\n",
       "      <td>0.020191</td>\n",
       "      <td>0.014001</td>\n",
       "      <td>0.006417</td>\n",
       "      <td>-0.003025</td>\n",
       "      <td>-0.011963</td>\n",
       "      <td>-0.007565</td>\n",
       "      <td>0.013667</td>\n",
       "      <td>-0.008957</td>\n",
       "      <td>0.036918</td>\n",
       "      <td>-0.028306</td>\n",
       "      <td>-0.010519</td>\n",
       "      <td>-0.031603</td>\n",
       "      <td>0.030384</td>\n",
       "      <td>-0.000335</td>\n",
       "      <td>0.000405</td>\n",
       "      <td>-0.029291</td>\n",
       "      <td>0.005563</td>\n",
       "      <td>-0.035104</td>\n",
       "      <td>0.023762</td>\n",
       "      <td>-0.001103</td>\n",
       "    </tr>\n",
       "    <tr>\n",
       "      <th>2</th>\n",
       "      <td>-0.009227</td>\n",
       "      <td>-0.013174</td>\n",
       "      <td>-0.080700</td>\n",
       "      <td>0.021887</td>\n",
       "      <td>-0.041854</td>\n",
       "      <td>0.052632</td>\n",
       "      <td>0.000175</td>\n",
       "      <td>0.017286</td>\n",
       "      <td>-0.021256</td>\n",
       "      <td>0.011598</td>\n",
       "      <td>-0.019671</td>\n",
       "      <td>-0.003535</td>\n",
       "      <td>0.047776</td>\n",
       "      <td>-0.023163</td>\n",
       "      <td>-0.007540</td>\n",
       "      <td>0.013366</td>\n",
       "      <td>-0.036634</td>\n",
       "      <td>-0.032115</td>\n",
       "      <td>-0.054735</td>\n",
       "      <td>0.030348</td>\n",
       "    </tr>\n",
       "    <tr>\n",
       "      <th>3</th>\n",
       "      <td>-0.033374</td>\n",
       "      <td>0.002136</td>\n",
       "      <td>0.009405</td>\n",
       "      <td>0.020186</td>\n",
       "      <td>-0.002358</td>\n",
       "      <td>-0.007324</td>\n",
       "      <td>-0.030595</td>\n",
       "      <td>0.013745</td>\n",
       "      <td>0.012005</td>\n",
       "      <td>0.001523</td>\n",
       "      <td>0.009838</td>\n",
       "      <td>0.012011</td>\n",
       "      <td>-0.009667</td>\n",
       "      <td>-0.000170</td>\n",
       "      <td>0.025990</td>\n",
       "      <td>0.012361</td>\n",
       "      <td>0.002625</td>\n",
       "      <td>-0.001620</td>\n",
       "      <td>0.021952</td>\n",
       "      <td>-0.003477</td>\n",
       "    </tr>\n",
       "    <tr>\n",
       "      <th>4</th>\n",
       "      <td>-0.005361</td>\n",
       "      <td>0.027710</td>\n",
       "      <td>0.027310</td>\n",
       "      <td>0.002298</td>\n",
       "      <td>0.014358</td>\n",
       "      <td>-0.010233</td>\n",
       "      <td>-0.031642</td>\n",
       "      <td>0.000922</td>\n",
       "      <td>-0.008463</td>\n",
       "      <td>-0.019281</td>\n",
       "      <td>0.018650</td>\n",
       "      <td>0.004970</td>\n",
       "      <td>0.060408</td>\n",
       "      <td>0.011731</td>\n",
       "      <td>-0.014682</td>\n",
       "      <td>-0.055579</td>\n",
       "      <td>-0.011830</td>\n",
       "      <td>0.019722</td>\n",
       "      <td>0.003625</td>\n",
       "      <td>0.003970</td>\n",
       "    </tr>\n",
       "  </tbody>\n",
       "</table>\n",
       "</div>"
      ],
      "text/plain": [
       "         0         1         2         3         4         5         6   \\\n",
       "0  0.015846 -0.010931 -0.004674  0.003822 -0.023871 -0.017512  0.044750   \n",
       "1  0.020191  0.014001  0.006417 -0.003025 -0.011963 -0.007565  0.013667   \n",
       "2 -0.009227 -0.013174 -0.080700  0.021887 -0.041854  0.052632  0.000175   \n",
       "3 -0.033374  0.002136  0.009405  0.020186 -0.002358 -0.007324 -0.030595   \n",
       "4 -0.005361  0.027710  0.027310  0.002298  0.014358 -0.010233 -0.031642   \n",
       "\n",
       "         7         8         9         10        11        12        13  \\\n",
       "0  0.009582 -0.015291 -0.016862  0.027048  0.004653  0.012857  0.015904   \n",
       "1 -0.008957  0.036918 -0.028306 -0.010519 -0.031603  0.030384 -0.000335   \n",
       "2  0.017286 -0.021256  0.011598 -0.019671 -0.003535  0.047776 -0.023163   \n",
       "3  0.013745  0.012005  0.001523  0.009838  0.012011 -0.009667 -0.000170   \n",
       "4  0.000922 -0.008463 -0.019281  0.018650  0.004970  0.060408  0.011731   \n",
       "\n",
       "         14        15        16        17        18        19  \n",
       "0 -0.026063 -0.006431  0.029526  0.012398  0.005457  0.012917  \n",
       "1  0.000405 -0.029291  0.005563 -0.035104  0.023762 -0.001103  \n",
       "2 -0.007540  0.013366 -0.036634 -0.032115 -0.054735  0.030348  \n",
       "3  0.025990  0.012361  0.002625 -0.001620  0.021952 -0.003477  \n",
       "4 -0.014682 -0.055579 -0.011830  0.019722  0.003625  0.003970  "
      ]
     },
     "execution_count": 72,
     "metadata": {},
     "output_type": "execute_result"
    }
   ],
   "source": [
    "# Create the dataset once again. This time, introduce high\n",
    "# multicollinearity by setting low rank to the input matrix\n",
    "X, y = make_regression(n_samples=100, n_features=20, noise=0.95, effective_rank=1)\n",
    "df = pd.DataFrame(X)\n",
    "df.head()"
   ]
  },
  {
   "cell_type": "markdown",
   "metadata": {
    "nbpresent": {
     "id": "e6ce378d-dbff-46b1-99c3-77e18891ee1b"
    }
   },
   "source": [
    "### Results on dataset with high multicollinearity "
   ]
  },
  {
   "cell_type": "code",
   "execution_count": 73,
   "metadata": {
    "nbpresent": {
     "id": "c7660cf5-ec2d-43a3-92a6-86bd5159cb08"
    }
   },
   "outputs": [
    {
     "name": "stdout",
     "output_type": "stream",
     "text": [
      "Mean: 0.927965134304\n",
      "Values: [ 0.8348102   0.95336766  0.93501047  0.95455964  0.8854501   0.95326037\n",
      "  0.9354691   0.92986913  0.95585656  0.94199813]\n"
     ]
    }
   ],
   "source": [
    "# Cross Validation will fit the classifier N number of times\n",
    "# and display the accuracies\n",
    "cv = cross_val_score(LinearRegression(), X, y, cv=10)\n",
    "print(\"Mean: {}\".format(cv.mean()))\n",
    "print(\"Values: {}\".format(cv))"
   ]
  },
  {
   "cell_type": "code",
   "execution_count": null,
   "metadata": {
    "nbpresent": {
     "id": "abb5adfc-c10a-49d3-85d3-10bae74cb33b"
    }
   },
   "outputs": [],
   "source": []
  }
 ],
 "metadata": {
  "anaconda-cloud": {},
  "kernelspec": {
   "display_name": "Python [default]",
   "language": "python",
   "name": "python2"
  },
  "language_info": {
   "codemirror_mode": {
    "name": "ipython",
    "version": 2
   },
   "file_extension": ".py",
   "mimetype": "text/x-python",
   "name": "python",
   "nbconvert_exporter": "python",
   "pygments_lexer": "ipython2",
   "version": "2.7.12"
  },
  "nbpresent": {
   "slides": {
    "009f09fb-9b67-4b76-89d3-7ea45b9ef01a": {
     "id": "009f09fb-9b67-4b76-89d3-7ea45b9ef01a",
     "prev": "728a638f-f6c1-44a8-b9a3-12a2e69b987c",
     "regions": {
      "6d447400-de92-4395-949d-b4d894fe53f4": {
       "attrs": {
        "height": 0.8,
        "width": 0.8,
        "x": 0.1,
        "y": 0.1
       },
       "content": {
        "cell": "c05a93bc-30ac-466d-834f-d9c358572f70",
        "part": "whole"
       },
       "id": "6d447400-de92-4395-949d-b4d894fe53f4"
      }
     }
    },
    "5dbc0023-f238-4b80-925e-3eeadf625eea": {
     "id": "5dbc0023-f238-4b80-925e-3eeadf625eea",
     "prev": "009f09fb-9b67-4b76-89d3-7ea45b9ef01a",
     "regions": {
      "7291ffcd-f4cf-4324-96c9-0c7b88f47fcd": {
       "attrs": {
        "height": 0.8,
        "width": 0.8,
        "x": 0.1,
        "y": 0.1
       },
       "content": {
        "cell": "b5e4ee25-b9b2-4e8b-ac5f-da8da9f5cb95",
        "part": "whole"
       },
       "id": "7291ffcd-f4cf-4324-96c9-0c7b88f47fcd"
      }
     }
    },
    "67eaeec6-4a3d-44ae-933b-c3bbc2dcdf1d": {
     "id": "67eaeec6-4a3d-44ae-933b-c3bbc2dcdf1d",
     "prev": "e390c96c-7f31-4b26-9fa3-821ccfbfc406",
     "regions": {
      "10cbe3a3-db4d-401c-b649-e8b5213f983a": {
       "attrs": {
        "height": 0.8,
        "width": 0.8,
        "x": 0.1,
        "y": 0.1
       },
       "content": {
        "cell": "abb5adfc-c10a-49d3-85d3-10bae74cb33b",
        "part": "whole"
       },
       "id": "10cbe3a3-db4d-401c-b649-e8b5213f983a"
      }
     }
    },
    "728a638f-f6c1-44a8-b9a3-12a2e69b987c": {
     "id": "728a638f-f6c1-44a8-b9a3-12a2e69b987c",
     "prev": "ee8d6ed7-9d98-4444-8e65-61a1800c6c60",
     "regions": {
      "eca15f5a-2a6e-404f-9115-9bef612ac50c": {
       "attrs": {
        "height": 0.8,
        "width": 0.8,
        "x": 0.1,
        "y": 0.1
       },
       "content": {
        "cell": "b3febd39-abda-4a7b-a1f5-3b88c4c79de1",
        "part": "whole"
       },
       "id": "eca15f5a-2a6e-404f-9115-9bef612ac50c"
      }
     }
    },
    "7e24001b-a1d3-43ca-894e-b0a26a78671a": {
     "id": "7e24001b-a1d3-43ca-894e-b0a26a78671a",
     "prev": "89322f7d-d683-4a24-aff7-8d3ffc172072",
     "regions": {
      "41b6488b-d8aa-402b-91a9-fe7cbc8bc560": {
       "attrs": {
        "height": 0.8,
        "width": 0.8,
        "x": 0.1,
        "y": 0.1
       },
       "content": {
        "cell": "e6ce378d-dbff-46b1-99c3-77e18891ee1b",
        "part": "whole"
       },
       "id": "41b6488b-d8aa-402b-91a9-fe7cbc8bc560"
      }
     }
    },
    "89322f7d-d683-4a24-aff7-8d3ffc172072": {
     "id": "89322f7d-d683-4a24-aff7-8d3ffc172072",
     "prev": "5dbc0023-f238-4b80-925e-3eeadf625eea",
     "regions": {
      "2aa358c0-9c63-44c9-95b0-68d5f8097a6e": {
       "attrs": {
        "height": 0.8,
        "width": 0.8,
        "x": 0.1,
        "y": 0.1
       },
       "content": {
        "cell": "921bad8d-59a3-4d6e-b2dc-ef6e8bcb24bb",
        "part": "whole"
       },
       "id": "2aa358c0-9c63-44c9-95b0-68d5f8097a6e"
      }
     }
    },
    "e390c96c-7f31-4b26-9fa3-821ccfbfc406": {
     "id": "e390c96c-7f31-4b26-9fa3-821ccfbfc406",
     "prev": "7e24001b-a1d3-43ca-894e-b0a26a78671a",
     "regions": {
      "cdbfcf77-00d1-4f43-b0db-037e37e39df6": {
       "attrs": {
        "height": 0.8,
        "width": 0.8,
        "x": 0.1,
        "y": 0.1
       },
       "content": {
        "cell": "c7660cf5-ec2d-43a3-92a6-86bd5159cb08",
        "part": "whole"
       },
       "id": "cdbfcf77-00d1-4f43-b0db-037e37e39df6"
      }
     }
    },
    "ee8d6ed7-9d98-4444-8e65-61a1800c6c60": {
     "id": "ee8d6ed7-9d98-4444-8e65-61a1800c6c60",
     "prev": null,
     "regions": {
      "ea96c8e7-69d9-459c-b7b4-2593f0139943": {
       "attrs": {
        "height": 0.8,
        "width": 0.8,
        "x": 0.1,
        "y": 0.1
       },
       "content": {
        "cell": "9e327d62-efa8-42da-a466-3807c60e7b68",
        "part": "whole"
       },
       "id": "ea96c8e7-69d9-459c-b7b4-2593f0139943"
      }
     }
    }
   },
   "themes": {}
  }
 },
 "nbformat": 4,
 "nbformat_minor": 2
}

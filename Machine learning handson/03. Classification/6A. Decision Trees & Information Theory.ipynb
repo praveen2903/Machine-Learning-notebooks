{
 "cells": [
  {
   "cell_type": "markdown",
   "metadata": {},
   "source": [
    "## Decision Trees\n",
    "\n",
    "Decision trees are basically just nested if statements. The conditions in this if statements are what are learned by techniques that are rooted in Information Theory. \n",
    "\n",
    "\n",
    "### Information Theory\n",
    "We measure weight by kilos, and water by litres, but how to measure information? The answer is Information Entropy. For instance, a page of a random book has more Entropy than the book itself because there's a lot of randomness in the page. On the other hand all the information is present in the book so it's obvious (less random = less Entropy)  \n",
    "\n",
    "\n",
    "Entropy is used to choose the best splits in the DT. Our motive is to choose a split that maximizes the reduction in uncertainity. Eg: going from 50% certain to 100% certain is better than going from 50% to 75%. It is also related to variance. More variance = more uncertainity = more entropy. However, there's a subtle difference when both are used in multimodal distributions. In that, variance depends on where the peaks are, but entropy doesn't care. \n",
    "\n",
    "$$H(p) = \\mathbb{E}(-log_2(p))$$\n",
    "\n",
    "Also, denoted by\n",
    "\n",
    "$$H(p) = -\\sum p*log(p)$$"
   ]
  },
  {
   "cell_type": "markdown",
   "metadata": {},
   "source": [
    "## Maximizing Information Gain\n",
    "\n",
    "One of the algorithms that is used to create the decision tree is called ID3. It will recursively divide the tree into 2 by selecting the feature that will maximise the IG. For instance, if we have 2 features, it will split by both and check which of the features gave more IG. \n",
    "\n",
    "### Regularizing \n",
    "We can easily get 100% training accuracy by creating a decision tree of arbitrary length. We can avoid this by setting a max_depth parameter. \n",
    "\n",
    "### Algorithm for splitting\n",
    "\n",
    "1. Sort X's for current column in order, sort Y in the same way\n",
    "2. Find all boundary points where Y changes from one value to another\n",
    "3. Calculate IG when splitting at each boundary\n",
    "4. Keep the split which gives max IG"
   ]
  },
  {
   "cell_type": "code",
   "execution_count": 25,
   "metadata": {},
   "outputs": [
    {
     "data": {
      "image/png": "[encoded data removed]",
      "text/plain": [
       "<Figure size 576x576 with 1 Axes>"
      ]
     },
     "metadata": {},
     "output_type": "display_data"
    }
   ],
   "source": [
    "import matplotlib.pyplot as plt\n",
    "from sklearn.datasets import make_circles\n",
    "\n",
    "fig = plt.figure(figsize=(8, 8))\n",
    "X, y = make_circles(factor=0.5, noise=0.1)\n",
    "plt.scatter(X[:, 0], X[:, 1], c=y);"
   ]
  },
  {
   "cell_type": "code",
   "execution_count": 8,
   "metadata": {},
   "outputs": [
    {
     "data": {
      "text/plain": [
       "array([[ 3.88016245e-01, -8.99625138e-01],\n",
       "       [-1.18260769e+00, -3.92983039e-01],\n",
       "       [ 2.45216150e-01,  1.26701165e+00],\n",
       "       [ 7.01516015e-01, -3.81699322e-01],\n",
       "       [-9.05108010e-01, -1.00148683e-01],\n",
       "       [-2.40956666e-01, -7.85282131e-01],\n",
       "       [ 8.48394084e-01, -3.74383852e-01],\n",
       "       [ 2.24616231e-01, -7.15502842e-01],\n",
       "       [-4.70968643e-01, -5.16717786e-01],\n",
       "       [ 7.17571512e-02,  2.70507493e-01],\n",
       "       [-1.09066653e+00,  7.13100968e-01],\n",
       "       [-5.35757281e-01,  2.58423663e-01],\n",
       "       [ 1.17326843e-01, -5.41469465e-01],\n",
       "       [ 4.65277141e-01, -1.75686923e-01],\n",
       "       [-3.86572238e-01, -1.38370273e-01],\n",
       "       [ 9.27492646e-01,  3.61451652e-01],\n",
       "       [-6.99206490e-01,  1.52112219e-01],\n",
       "       [ 9.48195394e-01, -3.40036588e-01],\n",
       "       [-4.37169651e-02, -2.26797578e-01],\n",
       "       [ 6.59585719e-01,  7.34674399e-02],\n",
       "       [-8.29394550e-01,  8.08061876e-02],\n",
       "       [-8.03127452e-04,  6.25712234e-01],\n",
       "       [-4.82438646e-01, -5.10197984e-01],\n",
       "       [-4.09595907e-01,  1.16412141e+00],\n",
       "       [-4.64306696e-01, -6.09637631e-01],\n",
       "       [ 1.01701384e+00,  2.94277834e-01],\n",
       "       [ 3.83130496e-01, -5.21355696e-01],\n",
       "       [ 1.65506964e-01, -1.01805023e+00],\n",
       "       [-7.97603820e-01,  2.56157919e-01],\n",
       "       [-2.57805136e-02,  5.96491569e-01],\n",
       "       [ 4.12500618e-01,  1.47231140e-01],\n",
       "       [ 3.56637052e-01,  6.24196428e-01],\n",
       "       [ 4.44796808e-01, -7.81706542e-01],\n",
       "       [-4.15487933e-01,  3.33229920e-01],\n",
       "       [ 6.82677324e-01,  8.72938912e-01],\n",
       "       [ 5.28193254e-01,  2.27113299e-01],\n",
       "       [-6.30612303e-01,  1.02124323e-01],\n",
       "       [ 1.23980430e-01,  2.85653235e-01],\n",
       "       [ 8.20444072e-01,  1.19558777e-01],\n",
       "       [-6.74054693e-01, -6.92461447e-01],\n",
       "       [-4.60133691e-01, -2.18360321e-01],\n",
       "       [ 1.06236478e+00, -4.25358993e-01],\n",
       "       [-9.31320154e-01, -2.59819685e-01],\n",
       "       [ 4.65682551e-01, -4.01321652e-01],\n",
       "       [-4.36886387e-01, -4.97176108e-01],\n",
       "       [ 1.71688936e-01,  2.66220437e-01],\n",
       "       [-1.20415206e+00,  5.18157559e-01],\n",
       "       [-6.87429133e-01,  2.40665188e-01],\n",
       "       [ 2.97649731e-01,  6.64915883e-02],\n",
       "       [ 1.65446317e-01,  7.30601498e-01],\n",
       "       [-5.82688587e-01,  8.87524586e-01],\n",
       "       [-9.88480054e-01,  2.75378921e-01],\n",
       "       [ 6.41613757e-01, -8.67798928e-01],\n",
       "       [ 1.12214259e+00, -2.16512688e-01],\n",
       "       [-3.42246751e-01, -1.08715057e+00],\n",
       "       [ 2.39337090e-01, -3.55032068e-01],\n",
       "       [-1.02362933e+00,  3.56697421e-01],\n",
       "       [ 3.07639158e-01,  3.46394706e-01],\n",
       "       [ 5.84981467e-01,  2.50537480e-01],\n",
       "       [-6.66856414e-01, -8.66327057e-01],\n",
       "       [-2.32906830e-01, -3.85817310e-01],\n",
       "       [ 4.95689957e-01, -7.56584001e-01],\n",
       "       [-1.10261870e-01, -7.66218709e-01],\n",
       "       [-1.09503474e+00, -2.63706781e-01],\n",
       "       [-5.70683208e-01,  4.27302458e-01],\n",
       "       [-1.70133117e-01,  7.96942458e-01],\n",
       "       [ 3.57521476e-01,  1.38240714e-01],\n",
       "       [ 3.65635263e-01, -5.44358607e-01],\n",
       "       [-2.06542265e-01, -9.98605473e-01],\n",
       "       [ 3.11503377e-01,  2.64884111e-01],\n",
       "       [-3.20813359e-01, -2.97774449e-01],\n",
       "       [ 8.64791931e-01,  7.48568163e-01],\n",
       "       [ 1.23542575e-01,  5.56917896e-01],\n",
       "       [ 5.59560952e-01, -4.60762214e-01],\n",
       "       [ 2.43387323e-02,  8.76529975e-01],\n",
       "       [-6.31642490e-01, -4.07501301e-01],\n",
       "       [ 5.55655246e-01,  2.48469206e-01],\n",
       "       [-7.00264372e-01, -3.61632168e-02],\n",
       "       [ 1.49646848e-01,  7.15199879e-01],\n",
       "       [ 1.44005561e-01,  6.87522631e-01],\n",
       "       [-8.86630576e-01, -7.68890591e-01],\n",
       "       [ 4.85343032e-01, -3.22050204e-01],\n",
       "       [ 1.27383171e-01,  1.47188919e-01],\n",
       "       [ 1.88504403e-01,  6.83774995e-01],\n",
       "       [ 3.51849775e-01,  3.03136622e-01],\n",
       "       [-6.15541607e-01, -2.45849045e-01],\n",
       "       [-1.14561175e+00,  8.62684368e-02],\n",
       "       [-2.02455541e-01,  1.00528467e+00],\n",
       "       [ 1.18683003e-01,  7.48861622e-01],\n",
       "       [ 4.15750669e-01, -4.30650771e-01],\n",
       "       [-2.97959034e-01, -2.79290647e-01],\n",
       "       [ 7.06146022e-01,  6.18907056e-01],\n",
       "       [ 4.23892574e-01, -1.24634437e+00],\n",
       "       [ 3.98016611e-01, -1.19806358e+00],\n",
       "       [-4.86005586e-01, -9.88704543e-02],\n",
       "       [ 6.73390756e-01,  7.17675866e-01],\n",
       "       [-1.21016945e+00, -3.19325657e-01],\n",
       "       [-8.31862538e-02,  2.88801357e-01],\n",
       "       [-3.97522278e-02, -9.71380614e-01],\n",
       "       [ 1.16742466e+00, -5.64008200e-03]])"
      ]
     },
     "execution_count": 8,
     "metadata": {},
     "output_type": "execute_result"
    }
   ],
   "source": [
    "class TreeNode:\n",
    "    def __init__(self, curr_depth=0, max_depth=None):\n",
    "        self.curr_depth = depth\n",
    "        self.max_depth = max_depth\n",
    "    \n",
    "    def fit(self, X, y):\n",
    "        # Base case: if length is 1, or there's only 1 label\n",
    "        # return the label\n",
    "        if len(y) == 1 or len(set(y)) == 1:\n",
    "            self.column = None\n",
    "            self.split = None\n",
    "            self.left = None\n",
    "            self.right = None\n",
    "            self.prediction = y[0]\n",
    "        else:\n",
    "            # find the best row for splitting\n",
    "            columns = X.shape[1]\n",
    "            max_ig = 0\n",
    "            best_col = None\n",
    "            best_split = None\n",
    "            for col in range(columns):\n",
    "                # for every column calculate the max\n",
    "                # information gain. If it's better than\n",
    "                # the current max, update it\n",
    "                ig, split = self.find_split(X, y, col)\n",
    "                if ig > max_ig:\n",
    "                    max_ig = ig\n",
    "                    best_col = col\n",
    "                    best_split = split\n",
    "            \n",
    "            # this case is for 50-50 split when nothing\n",
    "            # can be done, another base case\n",
    "            if max_ig == 0:\n",
    "                self.col = None\n",
    "                self.split = None\n",
    "                self.left = None\n",
    "                self.right = None\n",
    "                self.prediction = np.round(y.mean())\n",
    "            else:\n",
    "                # keep track of best column and best split\n",
    "                self.column = best_col\n",
    "                self.split = best_split\n",
    "            \n",
    "            # check if we're at max depth case, if yes\n",
    "            # then stop here and save mean predictions\n",
    "            if self.curr_depth == self.max_depth:\n",
    "                self.left = None\n",
    "                self.right = None\n",
    "                self.prediction = [\n",
    "                    # one for the left node: predict the mean y values\n",
    "                    # where the X values are less than the split\n",
    "                    np.round(y[X[:, best_col] < self.split].mean()),\n",
    "                    # same goes for right\n",
    "                    np.round(y[X[:, best_col] >= self.split].mean())\n",
    "                ]\n",
    "            else:\n",
    "                # recurse\n",
    "                left_indices = X[:, best_col] < best_split\n",
    "                X_left = X[left_indices]\n",
    "                y_left = y[left_indices]\n",
    "                # create a new node\n",
    "                self.left = TreeNode(self.depth + 1, self.max_depth)\n",
    "                self.left.fit(X_left, y_left)\n",
    "                \n",
    "                # same for right\n",
    "                right_indices = X[:, best_col] >= best_split\n",
    "                X_right = X[right_indices]\n",
    "                y_right = y[right_indices]\n",
    "                # create a new node\n",
    "                self.right = TreeNode(self.depth + 1, self.max_depth)\n",
    "                self.right.fit(X_right, y_right)\n",
    "    \n",
    "    def find_split(self, X, y, col):\n",
    "        x_values = X[:, col]\n",
    "        sort_idx = np.argsort(x_values)\n",
    "        x_values = x_values[sort_idx]\n",
    "        y_values = y[sort_idx]\n",
    "        boundaries = np.nonzero(y_values[:-1] != y_values[1:])\n",
    "        print(\"BS: {}\".format(boundaries.shape))\n",
    "        best_split = None\n",
    "        max_ig = 0\n",
    "        for boundary in boundaries:\n",
    "            # average the current and next x value to get the split\n",
    "            # the rule will be:\n",
    "            # 1. on the left: data < split\n",
    "            # 2. on the right: data >= split\n",
    "            split = (X[boundary] + X[boundary + 1]) / 2\n",
    "            ig = self.information_gain(X, y, split)\n",
    "            if ig > max_ig:\n",
    "                best_split = boundary\n",
    "                max_ig = ig\n",
    "        return max_ig, best_split\n",
    "    \n",
    "    def binary_entropy(y):\n",
    "        p1 = (y==1).sum() / len(y)\n",
    "        p0 = 1 - p1\n",
    "        if p1 == 1 or p1 == 0:\n",
    "            return 0\n",
    "        else:\n",
    "            return -p1 * np.log2(p1) - p0 * np.log2(p0)\n",
    "    \n",
    "    def information_gain(self, X, y, split):\n",
    "        # y for inputs less than split, left node of the tree\n",
    "        y0 = y[x < split]\n",
    "        # same for right node\n",
    "        y1 = y[x >= split]\n",
    "        N = len(y)\n",
    "        y0len = len(y0)\n",
    "        # base case where the split is in the beginning\n",
    "        # or the end\n",
    "        if y0len == 0 or y0len == N:\n",
    "            return 0\n",
    "        p0 = len(y0) / N\n",
    "        p1 = 1 - p0\n",
    "        return self.binary_entropy(y) - p0 * binary_entropy(y0) - p1 * binary_entropy(y1)"
   ]
  },
  {
   "cell_type": "code",
   "execution_count": 54,
   "metadata": {},
   "outputs": [],
   "source": [
    "y = np.array([0, 0, 0, 1, 1, 1, 0, 1, 0, 1])"
   ]
  },
  {
   "cell_type": "code",
   "execution_count": 55,
   "metadata": {},
   "outputs": [
    {
     "data": {
      "text/plain": [
       "(array([2, 5, 6, 7, 8], dtype=int64),)"
      ]
     },
     "execution_count": 55,
     "metadata": {},
     "output_type": "execute_result"
    }
   ],
   "source": [
    "np.nonzero(y[:-1] != y[1:])"
   ]
  },
  {
   "cell_type": "code",
   "execution_count": 45,
   "metadata": {},
   "outputs": [],
   "source": [
    "s = np.argsort(x)"
   ]
  },
  {
   "cell_type": "code",
   "execution_count": 47,
   "metadata": {},
   "outputs": [
    {
     "data": {
      "text/plain": [
       "array([5, 7, 9, 9])"
      ]
     },
     "execution_count": 47,
     "metadata": {},
     "output_type": "execute_result"
    }
   ],
   "source": [
    "x[s]"
   ]
  },
  {
   "cell_type": "code",
   "execution_count": 48,
   "metadata": {},
   "outputs": [
    {
     "data": {
      "text/plain": [
       "array([1, 3, 0, 2], dtype=int64)"
      ]
     },
     "execution_count": 48,
     "metadata": {},
     "output_type": "execute_result"
    }
   ],
   "source": [
    "s"
   ]
  },
  {
   "cell_type": "code",
   "execution_count": 50,
   "metadata": {},
   "outputs": [
    {
     "data": {
      "text/plain": [
       "array([5, 7, 9, 9])"
      ]
     },
     "execution_count": 50,
     "metadata": {},
     "output_type": "execute_result"
    }
   ],
   "source": [
    "x[[1, 3, 0, 2]]"
   ]
  },
  {
   "cell_type": "code",
   "execution_count": null,
   "metadata": {},
   "outputs": [],
   "source": []
  }
 ],
 "metadata": {
  "kernelspec": {
   "display_name": "Python 3",
   "language": "python",
   "name": "python3"
  },
  "language_info": {
   "codemirror_mode": {
    "name": "ipython",
    "version": 3
   },
   "file_extension": ".py",
   "mimetype": "text/x-python",
   "name": "python",
   "nbconvert_exporter": "python",
   "pygments_lexer": "ipython3",
   "version": "3.6.5"
  }
 },
 "nbformat": 4,
 "nbformat_minor": 2
}

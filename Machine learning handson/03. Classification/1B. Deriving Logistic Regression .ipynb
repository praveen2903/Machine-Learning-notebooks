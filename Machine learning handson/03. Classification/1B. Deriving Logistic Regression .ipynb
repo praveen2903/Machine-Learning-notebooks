{
 "cells": [
  {
   "cell_type": "markdown",
   "metadata": {},
   "source": [
    "## Cost function\n",
    "\n",
    "We've seen that the cost function for logistic regression is:\n",
    "\n",
    "$$\n",
    "J\\left(\\theta\\right)=-\\frac{1}{m}\\sum_{i=0}^m\\left[y^{\\left(i\\right)}\\log\\left(h_{\\theta}\\left(x^{\\left(i\\right)}\\right)\\right)+\\left(1-y^{\\left(i\\right)}\\right)\\log\\left(1-h_{\\theta}\\left(x^{\\left(i\\right)}\\right)\\right)\\right]\n",
    "$$\n",
    "\n",
    "Where $h_\\theta (x^{(i)})$ is the Sigmoid function. In order to get the update rule we need to differentiate this. Firstly, we know that\n",
    "\n",
    "$$\\frac{\\partial}{\\partial x} \\sigma(x) =  \\sigma(x) \\cdot (1 - \\sigma(x))$$\n",
    "\n",
    "In our case, we want to partial differentiate with respect to our paramters $\\theta$. So we have\n",
    "\n",
    "$$\\frac{\\partial }{\\partial \\theta }\\sigma \\left(f\\right)=\\sigma \\left(f\\right)\\cdot \\left(1-\\sigma \\left(f\\right)\\right)\\frac{\\partial }{\\partial \\theta }f$$\n",
    "\n",
    "Where, \n",
    "$$f = \\left(\\theta_0+\\theta_1x\\right)$$\n",
    "\n",
    "Hence, \n",
    "$$\\frac{\\partial}{\\partial\\theta_0}f=1$$\n",
    "And,\n",
    "$$\\frac{\\partial}{\\partial\\theta_1}f=x$$\n",
    "\n",
    "But since we can append ones in our input matrix, we can simply replace $x_j$ as 1 in our equation to make life easier, \n",
    "\n",
    "$$\\frac{\\partial }{\\partial \\theta _j}\\sigma \\left(x\\right)=\\sigma \\left(x\\right)\\cdot \\left(1-\\sigma \\left(x\\right)\\right)x_j)$$\n",
    "\n",
    "Where $x_j$ will be 1 for $\\theta_0$"
   ]
  },
  {
   "cell_type": "markdown",
   "metadata": {},
   "source": [
    "### Differentiating the negative likelihood\n",
    "\n",
    "The way we chose to represent our cost function (by taking logs) is called as negative log likelihood. We'll differentiate it now to obtain the update rule\n",
    "\n",
    "\n",
    "$\n",
    "\\begin{align}\n",
    "\\frac{\\partial}{\\partial \\theta}J(\\theta) &= \\frac{\\partial}{\\partial \\theta} \\left[- \\frac{1}{m}\\sum_{i=1}^m [y^{(i)}\\log (h_\\theta (x^{(i)})) + (1 - y^{(i)})\\log (1 - h_\\theta(x^{(i)}))] \\right] \\\\\n",
    "&= -\\frac{1}{m}\\sum_{i=0}^m\\left[\\frac{\\partial}{\\partial\\theta}y^{\\left(i\\right)}\\log\\left(h_{\\theta}\\left(x^{\\left(i\\right)}\\right)\\right)+\\frac{\\partial}{\\partial\\theta}\\left(\\left(1-y^{\\left(i\\right)}\\right)\\log\\left(1-h_{\\theta}\\left(x^{\\left(i\\right)}\\right)\\right)\\right)\\right] \\\\\n",
    "&= -\\frac{1}{m}\\sum_{i=0}^m\\left[\\frac{y^{\\left(i\\right)}}{h_{\\theta}\\left(x^{\\left(i\\right)}\\right)}\\frac{\\partial}{\\partial\\theta}h_{\\theta}\\left(x^{\\left(i\\right)}\\right)+\\frac{1-y^{\\left(i\\right)}}{1-h_{\\theta}\\left(x^{\\left(i\\right)}\\right)}\\frac{\\partial}{\\partial\\theta}\\left(-h_{\\theta}\\left(x^{\\left(i\\right)}\\right)\\right)\\right] \\\\\n",
    "\\text{Replacing h with sigma} \\\\\n",
    "&= -\\frac{1}{m}\\sum_{i=0}^m\\left[\\frac{y^{\\left(i\\right)}}{\\sigma\\left(x^{\\left(i\\right)}\\right)}\\frac{\\partial}{\\partial\\theta}\\sigma\\left(x^{\\left(i\\right)}\\right)+\\frac{1-y^{\\left(i\\right)}}{1-\\sigma\\left(x^{\\left(i\\right)}\\right)}\\frac{\\partial}{\\partial\\theta}\\left(-\\sigma\\left(x^{\\left(i\\right)}\\right)\\right)\\right]\\\\\n",
    "\\text{Take the minus sign out} \\\\\n",
    "&= -\\frac{1}{m}\\sum_{i=0}^m\\left[\\frac{y^{\\left(i\\right)}}{\\sigma\\left(x^{\\left(i\\right)}\\right)}\\frac{\\partial}{\\partial\\theta}\\sigma\\left(x^{\\left(i\\right)}\\right)-\\frac{1-y^{\\left(i\\right)}}{1-\\sigma\\left(x^{\\left(i\\right)}\\right)}\\frac{\\partial}{\\partial\\theta}\\sigma\\left(x^{\\left(i\\right)}\\right)\\right] \\\\\n",
    "\\text{Take sigma common} \\\\\n",
    "&= -\\frac{1}{m}\\sum_{i=0}^m\\left[\\left(\\frac{y^{\\left(i\\right)}}{\\sigma\\left(x^{\\left(i\\right)}\\right)}-\\frac{1-y^{\\left(i\\right)}}{1-\\sigma\\left(x^{\\left(i\\right)}\\right)}\\right)\\frac{\\partial}{\\partial\\theta}\\sigma\\left(x^{\\left(i\\right)}\\right)\\right] \\\\\n",
    "&= -\\frac{1}{m}\\sum_{i=0}^m\\left[\\left(\\frac{y^{\\left(i\\right)}-y^{\\left(i\\right)}\\cdot\\sigma\\left(x^{\\left(i\\right)}\\right)-\\sigma\\left(x^{\\left(i\\right)}\\right)+y^{\\left(i\\right)}\\cdot\\sigma\\left(x^{\\left(i\\right)}\\right)}{\\sigma\\left(x^{\\left(i\\right)}\\right)\\cdot\\left(1-\\sigma\\left(x^{\\left(i\\right)}\\right)\\right)}\\right)\\frac{\\partial}{\\partial\\theta}\\sigma\\left(x^{\\left(i\\right)}\\right)\\right] \\\\\n",
    "\\text{Cancel positive and negative terms} \\\\\n",
    "&= -\\frac{1}{m}\\sum_{i=0}^m\\left[\\left(\\frac{y^{\\left(i\\right)}-\\sigma\\left(x^{\\left(i\\right)}\\right)}{\\sigma\\left(x^{\\left(i\\right)}\\right)\\cdot\\left(1-\\sigma\\left(x^{\\left(i\\right)}\\right)\\right)}\\right)\\frac{\\partial}{\\partial\\theta}\\sigma\\left(x^{\\left(i\\right)}\\right)\\right] \\\\\n",
    "\\text{We know the gradient of sigma} \\\\\n",
    "&=  -\\frac{1}{m}\\sum_{i=0}^m\\left[\\frac{y^{\\left(i\\right)}-\\sigma\\left(x^{\\left(i\\right)}\\right)}{\\sigma\\left(x^{\\left(i\\right)}\\right)\\cdot\\left(1-\\sigma\\left(x^{\\left(i\\right)}\\right)\\right)}\\cdot\\sigma\\left(x^{\\left(i\\right)}\\right)\\cdot\\left(1-\\sigma\\left(x^{\\left(i\\right)}\\right)\\right)x^{\\left(i\\right)}_{j}\\right] \\\\\n",
    "\\text{Numerator and Denominator cancel out!} \\\\\n",
    "&= -\\frac{1}{m}\\sum_{i=0}^m\\left(y^{\\left(i\\right)}-\\sigma\\left(x^{\\left(i\\right)}\\right)\\right)x_j^{\\left(i\\right)}\n",
    "\\end{align} \\\\\n",
    "$"
   ]
  },
  {
   "cell_type": "markdown",
   "metadata": {},
   "source": [
    "## Update Rule for thetas\n",
    "\n",
    "Taking the negative sign inside in the last equation, we have our update rule\n",
    "\n",
    "### $\\begin{align*} & Repeat \\; \\lbrace \\newline & \\; \\theta_j := \\theta_j - \\frac{\\alpha}{m} \\sum_{i=1}^m (h_\\theta(x^{(i)}) - y^{(i)}) x_j^{(i)} \\newline & \\rbrace \\end{align*}$"
   ]
  },
  {
   "cell_type": "code",
   "execution_count": null,
   "metadata": {},
   "outputs": [],
   "source": []
  }
 ],
 "metadata": {
  "anaconda-cloud": {},
  "kernelspec": {
   "display_name": "Python 3",
   "language": "python",
   "name": "python3"
  },
  "language_info": {
   "codemirror_mode": {
    "name": "ipython",
    "version": 3
   },
   "file_extension": ".py",
   "mimetype": "text/x-python",
   "name": "python",
   "nbconvert_exporter": "python",
   "pygments_lexer": "ipython3",
   "version": "3.6.5"
  }
 },
 "nbformat": 4,
 "nbformat_minor": 2
}

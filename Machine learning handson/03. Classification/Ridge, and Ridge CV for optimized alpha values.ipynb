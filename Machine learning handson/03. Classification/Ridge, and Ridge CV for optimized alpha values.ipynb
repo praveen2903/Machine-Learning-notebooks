{
 "cells": [
  {
   "cell_type": "markdown",
   "metadata": {},
   "source": [
    "## Optimizing $\\alpha$ value for Ridge\n",
    "\n",
    "Ridge is nothing but Regularized version of Least Squares. Often we don't know which value of $\\alpha$ would give us the best results. What we can do is try out with different values and then select the one with the best cross-validation accuracy. "
   ]
  },
  {
   "cell_type": "code",
   "execution_count": 6,
   "metadata": {},
   "outputs": [],
   "source": [
    "# Create made up data\n",
    "import numpy as np\n",
    "\n",
    "from sklearn.datasets import make_regression\n",
    "\n",
    "X, y = make_regression(n_features=3, effective_rank=2, noise=10)\n",
    "# effective rank is the number of variables that \n",
    "# are enough to describe the input variables. Hence most \n",
    "# of the input data will be linear combination of these\n",
    "# singluar vectors. Rest of the variables will be fairly\n",
    "# irrelevant to the output. \n",
    "\n",
    "# noise is the standard deviation of the gaussian applied to\n",
    "# output"
   ]
  },
  {
   "cell_type": "code",
   "execution_count": 7,
   "metadata": {},
   "outputs": [
    {
     "data": {
      "text/plain": [
       "array([ 0.1,  0.2,  0.3,  0.4,  0.5,  0.6,  0.7,  0.8,  0.9,  1. ])"
      ]
     },
     "execution_count": 7,
     "metadata": {},
     "output_type": "execute_result"
    }
   ],
   "source": [
    "alpha_grid = np.linspace(0.1, 1, 10)\n",
    "alpha_grid"
   ]
  },
  {
   "cell_type": "code",
   "execution_count": 15,
   "metadata": {},
   "outputs": [
    {
     "name": "stdout",
     "output_type": "stream",
     "text": [
      "Best alpha: 0.1\n",
      "Costs: [[ 122.02900475  117.88653491  114.68338853  112.11919036  110.01323844\n",
      "   108.24900681  106.74737894  105.45245426  104.32345958  103.32987127]\n",
      " [  40.10985911   29.2329253    21.84018491   16.62836218   12.84723406\n",
      "    10.0401097     7.91642622    6.28452633    5.01412181    4.0143423 ]]\n"
     ]
    }
   ],
   "source": [
    "from sklearn.linear_model import RidgeCV\n",
    "\n",
    "clf = RidgeCV(alphas=alpha_grid, store_cv_values=True)\n",
    "clf.fit(X, y)\n",
    "print(\"Best alpha: {}\".format(clf.alpha_))\n",
    "print(\"Costs: {}\".format(clf.cv_values_[:2]))"
   ]
  },
  {
   "cell_type": "markdown",
   "metadata": {},
   "source": [
    "It will internally run multiple iterations of cross validation and select the alpha with least average cost. "
   ]
  },
  {
   "cell_type": "markdown",
   "metadata": {},
   "source": [
    "## Scoring with Mean Absolute Error"
   ]
  },
  {
   "cell_type": "code",
   "execution_count": 16,
   "metadata": {},
   "outputs": [],
   "source": [
    "from sklearn.metrics import mean_absolute_error, make_scorer\n",
    "l1_error = make_scorer(mean_absolute_error, greater_is_better=False)"
   ]
  },
  {
   "cell_type": "code",
   "execution_count": 18,
   "metadata": {},
   "outputs": [
    {
     "name": "stdout",
     "output_type": "stream",
     "text": [
      "Best alpha: 0.1\n",
      "Costs: [[ 1.78981083  1.60069349  1.45216994  1.33177187  1.23185649  1.1474152\n",
      "   1.07499923  1.01214145  0.95702254  0.90826707]\n",
      " [ 8.01265854  7.08617217  6.35277241  5.75721293  5.26372789  4.84803726\n",
      "   4.49303849  4.1863198   3.91864753  3.68300641]]\n"
     ]
    }
   ],
   "source": [
    "clf = RidgeCV(alphas=alpha_grid, store_cv_values=True, scoring=l1_error)\n",
    "clf.fit(X, y)\n",
    "print(\"Best alpha: {}\".format(clf.alpha_))\n",
    "print(\"Costs: {}\".format(clf.cv_values_[:2]))"
   ]
  },
  {
   "cell_type": "markdown",
   "metadata": {},
   "source": [
    "While the best alpha is same, the error are relatively smaller. This is because of the fact that by defualt RMSE is used (in the previous example) and in the last example we've used MAE"
   ]
  },
  {
   "cell_type": "markdown",
   "metadata": {},
   "source": [
    "Same technique is also applicable to __Lasso__ and __LassoCV__"
   ]
  },
  {
   "cell_type": "code",
   "execution_count": null,
   "metadata": {},
   "outputs": [],
   "source": []
  }
 ],
 "metadata": {
  "anaconda-cloud": {},
  "kernelspec": {
   "display_name": "Python [default]",
   "language": "python",
   "name": "python2"
  },
  "language_info": {
   "codemirror_mode": {
    "name": "ipython",
    "version": 2
   },
   "file_extension": ".py",
   "mimetype": "text/x-python",
   "name": "python",
   "nbconvert_exporter": "python",
   "pygments_lexer": "ipython2",
   "version": "2.7.12"
  }
 },
 "nbformat": 4,
 "nbformat_minor": 2
}

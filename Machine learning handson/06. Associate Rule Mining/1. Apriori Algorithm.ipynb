{
 "cells": [
  {
   "cell_type": "markdown",
   "metadata": {},
   "source": [
    "## Apriori Algorithm Working\n",
    "\n",
    "Three important concepts:\n",
    "### 1. Support\n",
    "Support of an item is the number of transactions that contain this item.\n",
    "\n",
    "$$Support = \\frac{Transactions\\ with\\ this\\ item}{Total\\ Transactions}$$\n",
    "\n",
    "### 2. Confidence\n",
    "Confidence(X->Y) will depict the how often item Y is purchased, given item X is already purchased. \n",
    "\n",
    "$$Confidence(X \\rightarrow Y) = \\frac{Transactions\\ where\\ X\\ and\\ Y\\ are\\ bought\\ together}{Transactions\\ where\\ X\\ is\\ bought}$$\n",
    "\n",
    "One drawback of Confidence is that it ignores the popularity of Y. For instance out of 5 transactions, X and Y are bought together. Hence Conf(X \\rightarrow Y) is 1 but it may be possible that item Y is a common item and is brought frequently hence rule X \\rightarrow Y doesn't hold much. Hence, lift is taken into consideration\n",
    "\n",
    "### 3. Lift\n",
    "Lift will depict how often item Y is purchased, given item X is already purchased, and also taking into consideration the popularity of item Y.\n",
    "\n",
    "$$ Lift (X \\rightarrow Y) = \\frac{Confidence(X \\rightarrow Y)}{Support(Y)}$$\n",
    "\n",
    "So Lift is a correct metric to see if item Y should be associated with item X. A lift of greater than 3 indicates a strong correlation. "
   ]
  },
  {
   "cell_type": "code",
   "execution_count": 27,
   "metadata": {},
   "outputs": [],
   "source": [
    "import numpy as np\n",
    "import matplotlib.pyplot as plt\n",
    "import pandas as pd\n",
    "import math\n",
    "\n",
    "X = pd.read_csv('Market_Basket_Optimisation.csv', header=None)\n"
   ]
  },
  {
   "cell_type": "code",
   "execution_count": 30,
   "metadata": {},
   "outputs": [],
   "source": [
    "transactions = []\n",
    "for i in range(0, 7501):\n",
    "    transactions.append([str(X.values[i, j]) for j in range(0, 20)])"
   ]
  },
  {
   "cell_type": "code",
   "execution_count": 38,
   "metadata": {},
   "outputs": [
    {
     "name": "stdout",
     "output_type": "stream",
     "text": [
      "['shrimp', 'almonds', 'avocado', 'vegetables mix', 'green grapes', 'whole weat flour', 'yams', 'cottage cheese', 'energy drink', 'tomato juice', 'low fat yogurt', 'green tea', 'honey', 'salad', 'mineral water', 'salmon', 'antioxydant juice', 'frozen smoothie', 'spinach', 'olive oil']\n",
      "['burgers', 'meatballs', 'eggs']\n",
      "['chutney']\n",
      "['turkey', 'avocado']\n",
      "['mineral water', 'milk', 'energy bar', 'whole wheat rice', 'green tea']\n"
     ]
    }
   ],
   "source": [
    "transactions = [[y for y in x if y != 'nan'] for x in transactions]\n",
    "for x in transactions[:5]:\n",
    "    print x"
   ]
  },
  {
   "cell_type": "code",
   "execution_count": 49,
   "metadata": {
    "collapsed": true
   },
   "outputs": [],
   "source": [
    "from apyori import apriori\n",
    "# support of 0.003 means an item is purchased at least 3-4 times\n",
    "rules = apriori(transactions, min_support=0.003, min_condifence=0.2, min_lift=3, min_length=2)"
   ]
  },
  {
   "cell_type": "code",
   "execution_count": 52,
   "metadata": {},
   "outputs": [
    {
     "name": "stdout",
     "output_type": "stream",
     "text": [
      "top 5 rules\n",
      "frozenset(['tomato sauce', 'ground beef'])\n",
      "frozenset(['olive oil', 'light cream'])\n",
      "frozenset(['olive oil', 'whole wheat pasta'])\n",
      "frozenset(['pasta', 'shrimp'])\n",
      "frozenset(['spaghetti', 'avocado', 'milk'])\n",
      "frozenset(['cake', 'burgers', 'milk'])\n"
     ]
    }
   ],
   "source": [
    "print 'top 5 rules'\n",
    "\n",
    "for idx, x in enumerate(rules):\n",
    "    if idx > 5:\n",
    "        break\n",
    "    print x.items"
   ]
  },
  {
   "cell_type": "code",
   "execution_count": null,
   "metadata": {
    "collapsed": true
   },
   "outputs": [],
   "source": []
  }
 ],
 "metadata": {
  "kernelspec": {
   "display_name": "Python 2",
   "language": "python",
   "name": "python2"
  },
  "language_info": {
   "codemirror_mode": {
    "name": "ipython",
    "version": 2
   },
   "file_extension": ".py",
   "mimetype": "text/x-python",
   "name": "python",
   "nbconvert_exporter": "python",
   "pygments_lexer": "ipython2",
   "version": "2.7.14"
  }
 },
 "nbformat": 4,
 "nbformat_minor": 2
}

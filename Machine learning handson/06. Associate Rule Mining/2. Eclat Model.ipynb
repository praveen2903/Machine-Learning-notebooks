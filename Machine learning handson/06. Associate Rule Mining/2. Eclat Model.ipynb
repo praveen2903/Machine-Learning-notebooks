{
 "cells": [
  {
   "cell_type": "markdown",
   "metadata": {},
   "source": [
    "## Eclat Algorithm:\n",
    "\n",
    "Since Apriori is computationally expensive, Eclat model overcomes it by using only support. \n",
    "Working is:\n",
    "1. Set minimum support\n",
    "2. Take all subsets that have support greater than minimum\n",
    "3. Sort descendingly "
   ]
  },
  {
   "cell_type": "code",
   "execution_count": null,
   "metadata": {
    "collapsed": true
   },
   "outputs": [],
   "source": []
  }
 ],
 "metadata": {
  "kernelspec": {
   "display_name": "Python 2",
   "language": "python",
   "name": "python2"
  },
  "language_info": {
   "codemirror_mode": {
    "name": "ipython",
    "version": 2
   },
   "file_extension": ".py",
   "mimetype": "text/x-python",
   "name": "python",
   "nbconvert_exporter": "python",
   "pygments_lexer": "ipython2",
   "version": "2.7.14"
  }
 },
 "nbformat": 4,
 "nbformat_minor": 2
}

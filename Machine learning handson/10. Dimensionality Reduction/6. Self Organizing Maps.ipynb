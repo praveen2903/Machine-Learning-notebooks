{
 "cells": [
  {
   "cell_type": "markdown",
   "metadata": {},
   "source": [
    "## Self Organizing Maps\n",
    "\n",
    "SOMs are unsupervised models for dimensionality reduction. They maps higher dimension data to 2D to visualise it. \n",
    "\n",
    "Nice blog that explains the working: [AI junkie](http://www.ai-junkie.com/ann/som/som1.html)"
   ]
  },
  {
   "cell_type": "code",
   "execution_count": 9,
   "metadata": {},
   "outputs": [
    {
     "name": "stdout",
     "output_type": "stream",
     "text": [
      "   CustomerID  A1     A2     A3  A4  A5  A6     A7  A8  A9  A10  A11  A12  \\\n",
      "0    15776156   1  22.08  11.46   2   4   4  1.585   0   0    0    1    2   \n",
      "1    15739548   0  22.67   7.00   2   8   4  0.165   0   0    0    0    2   \n",
      "2    15662854   0  29.58   1.75   1   4   4  1.250   0   0    0    1    2   \n",
      "3    15687688   0  21.67  11.50   1   5   3  0.000   1   1   11    1    2   \n",
      "4    15715750   1  20.17   8.17   2   6   4  1.960   1   1   14    0    2   \n",
      "\n",
      "   A13   A14  Class  \n",
      "0  100  1213      0  \n",
      "1  160     1      0  \n",
      "2  280     1      0  \n",
      "3    0     1      1  \n",
      "4   60   159      1  \n"
     ]
    }
   ],
   "source": [
    "import numpy as np\n",
    "import matplotlib.pyplot as plt\n",
    "import pandas as pd\n",
    "\n",
    "dataset = pd.read_csv('Credit_Card_Applications.csv')\n",
    "print dataset.head()\n",
    "X = dataset.iloc[:, :-1].values\n",
    "y = dataset.iloc[:, -1].values\n",
    "y = y.reshape(-1, 1)"
   ]
  },
  {
   "cell_type": "code",
   "execution_count": 10,
   "metadata": {},
   "outputs": [],
   "source": [
    "# Feature Scaling\n",
    "from sklearn.preprocessing import MinMaxScaler\n",
    "sc = MinMaxScaler()\n",
    "X = sc.fit_transform(X)"
   ]
  },
  {
   "cell_type": "code",
   "execution_count": 14,
   "metadata": {},
   "outputs": [],
   "source": [
    "from minisom import MiniSom\n",
    "# x and y are the dimension of SOM (rows, columns)\n",
    "# input_length is the dimensionality of your data\n",
    "som = MiniSom(x=10, y=10, input_len=15)\n",
    "som.random_weights_init(X)\n",
    "som.train_random(X, num_iteration=100)"
   ]
  },
  {
   "cell_type": "code",
   "execution_count": 37,
   "metadata": {},
   "outputs": [
    {
     "data": {
      "image/png": "[encoded data removed]",
      "text/plain": [
       "<matplotlib.figure.Figure at 0x7fbe2b6766d0>"
      ]
     },
     "metadata": {},
     "output_type": "display_data"
    }
   ],
   "source": [
    "%matplotlib inline\n",
    "\n",
    "# visualizing SOM\n",
    "from pylab import bone, pcolor, colorbar, plot, show\n",
    "# bone will just create a window\n",
    "bone()\n",
    "# add the winning nodes\n",
    "pcolor(som.distance_map().T)\n",
    "# display legend \n",
    "colorbar()\n",
    "markers = ['o', 's']\n",
    "colors = ['r', 'g']\n",
    "for indx, row in enumerate(X):\n",
    "    winning_node = som.winner(row)\n",
    "    # plot square or circle for the winning node\n",
    "    # additional 0.5 is for padding\n",
    "    # markers will be O for 0 and S for 1\n",
    "    # same with the colors\n",
    "    plot(winning_node[0] + 0.5, winning_node[1] + 0.5, \n",
    "         markers[y[indx][0]], markeredgecolor=colors[y[indx][0]],\n",
    "         markerfacecolor='None', markersize=10, markeredgewidth=2)"
   ]
  },
  {
   "cell_type": "code",
   "execution_count": 36,
   "metadata": {},
   "outputs": [
    {
     "data": {
      "text/plain": [
       "(690, 1)"
      ]
     },
     "execution_count": 36,
     "metadata": {},
     "output_type": "execute_result"
    }
   ],
   "source": [
    "y.shape"
   ]
  },
  {
   "cell_type": "code",
   "execution_count": null,
   "metadata": {
    "collapsed": true
   },
   "outputs": [],
   "source": []
  }
 ],
 "metadata": {
  "kernelspec": {
   "display_name": "Python 2",
   "language": "python",
   "name": "python2"
  },
  "language_info": {
   "codemirror_mode": {
    "name": "ipython",
    "version": 2
   },
   "file_extension": ".py",
   "mimetype": "text/x-python",
   "name": "python",
   "nbconvert_exporter": "python",
   "pygments_lexer": "ipython2",
   "version": "2.7.14"
  }
 },
 "nbformat": 4,
 "nbformat_minor": 2
}

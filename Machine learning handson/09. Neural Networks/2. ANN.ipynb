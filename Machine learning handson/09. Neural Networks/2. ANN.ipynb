{
 "cells": [
  {
   "cell_type": "code",
   "execution_count": 1,
   "metadata": {
    "collapsed": true
   },
   "outputs": [],
   "source": [
    "import numpy as np\n",
    "import matplotlib.pyplot as plt\n",
    "import pandas as pd\n"
   ]
  },
  {
   "cell_type": "code",
   "execution_count": 2,
   "metadata": {
    "collapsed": true
   },
   "outputs": [],
   "source": [
    "df = pd.read_csv('Churn_Modelling.csv')\n",
    "X = df.iloc[:, 3:13].values\n",
    "y = df.iloc[:, 13].values"
   ]
  },
  {
   "cell_type": "code",
   "execution_count": 3,
   "metadata": {
    "collapsed": true
   },
   "outputs": [],
   "source": [
    "from sklearn.preprocessing import LabelEncoder, OneHotEncoder\n",
    "\n",
    "le_geography = LabelEncoder()\n",
    "X[:, 1] = le_geography.fit_transform(X[:, 1])\n",
    "le_gender = LabelEncoder()\n",
    "X[:, 2] = le_gender.fit_transform(X[:, 2])\n",
    "ohe = OneHotEncoder(categorical_features=[1])\n",
    "X = ohe.fit_transform(X).toarray()\n",
    "# avoid dummy variable trap\n",
    "X = X[:, 1:]"
   ]
  },
  {
   "cell_type": "code",
   "execution_count": 4,
   "metadata": {
    "collapsed": true
   },
   "outputs": [],
   "source": [
    "from sklearn.model_selection import train_test_split\n",
    "X_train, X_test, y_train, y_test = train_test_split(X, y, test_size=0.2, random_state=0)"
   ]
  },
  {
   "cell_type": "code",
   "execution_count": 5,
   "metadata": {
    "collapsed": true
   },
   "outputs": [],
   "source": [
    "from sklearn.preprocessing import StandardScaler\n",
    "sc = StandardScaler()\n",
    "X_train = sc.fit_transform(X_train)\n",
    "X_test = sc.transform(X_test)"
   ]
  },
  {
   "cell_type": "code",
   "execution_count": 12,
   "metadata": {
    "collapsed": true
   },
   "outputs": [],
   "source": [
    "import keras\n",
    "from keras.models import Sequential\n",
    "from keras.layers import Dense\n",
    "\n",
    "# creating ANN classifier\n",
    "classifier = Sequential()\n",
    "# one rule to determine the number of hidden layers\n",
    "# is to average the number of input and output nodes\n",
    "classifier.add(Dense(units=6, input_dim=11, kernel_initializer='uniform', activation='relu'))\n",
    "# Add second hidden layers\n",
    "classifier.add(Dense(units=6, kernel_initializer='uniform', activation='relu'))\n",
    "# output layer\n",
    "# also replace activation function to sigmoid to have probabilities\n",
    "classifier.add(Dense(units=1, kernel_initializer='uniform', activation='sigmoid'))\n",
    "# compile the classifier\n",
    "# adam is a type of SGD\n",
    "# crossentropy is log loss function, for binary classification, use 'binary_crossentropy' \n",
    "# for multiclass classification, use 'categorical_crossentropy'\n",
    "classifier.compile(optimizer='adam', loss='binary_crossentropy', metrics=['accuracy'])"
   ]
  },
  {
   "cell_type": "code",
   "execution_count": 13,
   "metadata": {},
   "outputs": [
    {
     "name": "stdout",
     "output_type": "stream",
     "text": [
      "Epoch 1/10\n",
      "8000/8000 [==============================] - 4s 555us/step - loss: 0.4834 - acc: 0.7960\n",
      "Epoch 2/10\n",
      "8000/8000 [==============================] - 5s 585us/step - loss: 0.4284 - acc: 0.7960\n",
      "Epoch 3/10\n",
      "8000/8000 [==============================] - 4s 560us/step - loss: 0.4234 - acc: 0.8017\n",
      "Epoch 4/10\n",
      "8000/8000 [==============================] - 6s 716us/step - loss: 0.4196 - acc: 0.8212\n",
      "Epoch 5/10\n",
      "8000/8000 [==============================] - 6s 778us/step - loss: 0.4166 - acc: 0.8245\n",
      "Epoch 6/10\n",
      "8000/8000 [==============================] - 7s 898us/step - loss: 0.4157 - acc: 0.8301\n",
      "Epoch 7/10\n",
      "8000/8000 [==============================] - 7s 853us/step - loss: 0.4134 - acc: 0.8295\n",
      "Epoch 8/10\n",
      "8000/8000 [==============================] - 6s 750us/step - loss: 0.4127 - acc: 0.8319\n",
      "Epoch 9/10\n",
      "8000/8000 [==============================] - 6s 752us/step - loss: 0.4116 - acc: 0.8340\n",
      "Epoch 10/10\n",
      "8000/8000 [==============================] - 6s 786us/step - loss: 0.4106 - acc: 0.8341\n"
     ]
    },
    {
     "data": {
      "text/plain": [
       "<keras.callbacks.History at 0x7f391d644510>"
      ]
     },
     "execution_count": 13,
     "metadata": {},
     "output_type": "execute_result"
    }
   ],
   "source": [
    "classifier.fit(X_train, y_train, epochs=10, batch_size=10)"
   ]
  },
  {
   "cell_type": "code",
   "execution_count": 15,
   "metadata": {},
   "outputs": [
    {
     "name": "stdout",
     "output_type": "stream",
     "text": [
      "[[1566   29]\n",
      " [ 294  111]]\n"
     ]
    }
   ],
   "source": [
    "from sklearn.metrics import confusion_matrix\n",
    "y_pred = classifier.predict(X_test)\n",
    "y_pred = (y_pred > 0.5)\n",
    "print confusion_matrix(y_test, y_pred)"
   ]
  },
  {
   "cell_type": "code",
   "execution_count": 17,
   "metadata": {},
   "outputs": [
    {
     "data": {
      "text/plain": [
       "0.8385"
      ]
     },
     "execution_count": 17,
     "metadata": {},
     "output_type": "execute_result"
    }
   ],
   "source": [
    "(1566+111)/(1566.0+29+294+111)"
   ]
  },
  {
   "cell_type": "code",
   "execution_count": null,
   "metadata": {
    "collapsed": true
   },
   "outputs": [],
   "source": []
  }
 ],
 "metadata": {
  "kernelspec": {
   "display_name": "Python 2",
   "language": "python",
   "name": "python2"
  },
  "language_info": {
   "codemirror_mode": {
    "name": "ipython",
    "version": 2
   },
   "file_extension": ".py",
   "mimetype": "text/x-python",
   "name": "python",
   "nbconvert_exporter": "python",
   "pygments_lexer": "ipython2",
   "version": "2.7.14"
  }
 },
 "nbformat": 4,
 "nbformat_minor": 2
}
